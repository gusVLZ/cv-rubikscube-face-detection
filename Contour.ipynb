{
 "cells": [
  {
   "cell_type": "code",
   "execution_count": 1,
   "metadata": {},
   "outputs": [],
   "source": [
    "import cv2 as cv\n",
    "import numpy as np\n",
    "import matplotlib.pyplot as plt\n",
    "import math\n",
    "%matplotlib inline\n",
    "from IPython.display import Image\n",
    "\n",
    "lower_blue = np.array([55,80,50])\n",
    "upper_blue = np.array([70,255,240])"
   ]
  },
  {
   "cell_type": "code",
   "execution_count": 2,
   "metadata": {},
   "outputs": [],
   "source": [
    "cap = cv.VideoCapture(0)\n",
    "cap.release()\n",
    "cv.destroyAllWindows()"
   ]
  },
  {
   "cell_type": "code",
   "execution_count": 2,
   "metadata": {},
   "outputs": [],
   "source": [
    "def smoothContour(contour, thresh):\n",
    "\n",
    "    smooth = [contour[0]]\n",
    "    last = contour[0][0]\n",
    "    for i, c in enumerate(contour):\n",
    "        c1 = c[0][0]-last[0]\n",
    "        c2 = c[0][1]-last[1]\n",
    "        h = math.sqrt((c1**2+c2**2))\n",
    "        if(h>thresh):\n",
    "            smooth = np.concatenate([smooth,[c]])\n",
    "            last = c[0]\n",
    "    return np.array(smooth)\n",
    "\n",
    "\n",
    "def on_trackbar(val):\n",
    "    global lower_blue\n",
    "    global upper_blue\n",
    "    lower_blue = np.array([val-8,60,10])\n",
    "    upper_blue = np.array([val+8,255,255])\n",
    "\n",
    "def getBlue():\n",
    "    return [lower_blue,upper_blue]"
   ]
  },
  {
   "cell_type": "code",
   "execution_count": 4,
   "metadata": {},
   "outputs": [],
   "source": [
    "cap = cv.VideoCapture(0)\n",
    "cont = []\n",
    "\n",
    "cv.namedWindow(\"Output\")\n",
    "cv.createTrackbar( \"HUE\", \"Output\", 0, 255, on_trackbar )\n",
    "while True:\n",
    "    _, frame = cap.read()\n",
    "    #cv.imwrite(\"outputs/picture/cubeBlueFace.jpg\",frame)\n",
    "    blurred_frame = cv.GaussianBlur(frame, (3, 3), 0)\n",
    "    hsv = cv.cvtColor(blurred_frame, cv.COLOR_BGR2HSV)\n",
    "    \n",
    "\n",
    "    mask = cv.inRange(hsv, getBlue()[0], getBlue()[1]) \n",
    "    #canny_output = cv.Canny(mask, 80, 80 * 2)\n",
    "    contours, _ = cv.findContours(mask, cv.RETR_CCOMP, cv.CHAIN_APPROX_SIMPLE)\n",
    "    count = 0 \n",
    "    for contour in contours:\n",
    "        area = cv.contourArea(contour)\n",
    "        if(area>100):\n",
    "            contour = smoothContour(contour, 10)\n",
    "            \n",
    "            rect = cv.minAreaRect(contour)\n",
    "            rect = cv.boxPoints(rect)\n",
    "            rect = np.int0(rect)\n",
    "            count+=1\n",
    "            frame = cv.drawContours(frame, [rect], -1, (255, 0, 0), 2)\n",
    "    frame = cv.putText(frame, \"n Contornos: \"+str(count),(50, 50), cv.FONT_HERSHEY_PLAIN, 2, (255,0,0), 2)\n",
    "    \n",
    "    numpy_horizontal = np.hstack((cv.cvtColor(mask, cv.COLOR_GRAY2BGR), frame))\n",
    "\n",
    "    cv.imshow(\"Output\", numpy_horizontal)\n",
    "\n",
    "    key = cv.waitKey(50)\n",
    "\n",
    "    if key == 27:\n",
    "        break\n",
    "        \n",
    "cap.release()\n",
    "cv.destroyAllWindows()"
   ]
  },
  {
   "cell_type": "markdown",
   "metadata": {},
   "source": [
    "ENCONTRA VALORES MÁXIMOS E MÍNIMOS DE UM TRECHO DA IMAGEM"
   ]
  },
  {
   "cell_type": "code",
   "execution_count": null,
   "metadata": {},
   "outputs": [],
   "source": [
    "img = cv.imread(\"outputs/picture/cubeBlueFace.jpg\")\n",
    "#plt.imshow(img)\n",
    "img = img[170:310,220:380]\n",
    "plt.imshow(img)\n",
    "img = cv.cvtColor(img, cv.COLOR_BGR2HSV)\n",
    "list = np.array([])\n",
    "for item in img:\n",
    "    list = np.concatenate([list, item[:,2]])\n",
    "list=np.sort(list)\n",
    "print(list.shape[0])\n",
    "list = list[int(list.shape[0]/10):int(list.shape[0]/10*9)]\n",
    "maxH = max(list)\n",
    "minH = min(list)\n",
    "print(maxH, minH)\n",
    "#plt.imshow(img)"
   ]
  }
 ],
 "metadata": {
  "interpreter": {
   "hash": "18a46c5132b1cbc98f56371d3221d1f8be88d5ca3e26f218f131331f05f55f28"
  },
  "kernelspec": {
   "display_name": "Python 3.10.4 64-bit",
   "language": "python",
   "name": "python3"
  },
  "language_info": {
   "codemirror_mode": {
    "name": "ipython",
    "version": 3
   },
   "file_extension": ".py",
   "mimetype": "text/x-python",
   "name": "python",
   "nbconvert_exporter": "python",
   "pygments_lexer": "ipython3",
   "version": "3.10.4"
  },
  "orig_nbformat": 4
 },
 "nbformat": 4,
 "nbformat_minor": 2
}
