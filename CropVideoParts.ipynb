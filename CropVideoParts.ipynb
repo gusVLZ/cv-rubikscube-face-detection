{
 "cells": [
  {
   "cell_type": "code",
   "execution_count": 37,
   "metadata": {},
   "outputs": [],
   "source": [
    "import cv2 as cv\n",
    "import numpy as np\n",
    "import random as r"
   ]
  },
  {
   "cell_type": "markdown",
   "metadata": {},
   "source": [
    "abre video, pede uma região, processa ela e trasforma em novo video"
   ]
  },
  {
   "cell_type": "code",
   "execution_count": 48,
   "metadata": {},
   "outputs": [
    {
     "name": "stdout",
     "output_type": "stream",
     "text": [
      "(38, 43, 227, 249)\n",
      "(227, 249)\n"
     ]
    }
   ],
   "source": [
    "cap = cv.VideoCapture(\"video/*.mp4\")\n",
    "cap.set(cv.CAP_PROP_POS_FRAMES,1)\n",
    "(grabbed, frame) = cap.read()\n",
    "if grabbed:\n",
    "    roi = cv.selectROI(\"Select region\", frame, False, False)\n",
    "    print(roi)\n",
    "    mini = frame[roi[1]:roi[1]+roi[3],roi[0]:roi[0]+roi[2]]\n",
    "    shape = mini.shape\n",
    "    size = (shape[1], shape[0])\n",
    "    print(size)\n",
    "    #out = cv.VideoWriter('outputs/video/cropRegion_'+str(r.randint(100000,999999))+'.mp4',cv.VideoWriter_fourcc(*'mp4v'), 30, size)\n",
    "    fps = cap.get(cv.CAP_PROP_FPS)\n",
    "    sec = 0\n",
    "    count = 1\n",
    "    while(cap.isOpened()):\n",
    "        cap.set(cv.CAP_PROP_POS_FRAMES,int((sec/2)*fps+1))\n",
    "        ret, frame = cap.read()\n",
    "\n",
    "        if ret == False:\n",
    "            break\n",
    "        mini = frame[roi[1]:roi[1]+roi[3],roi[0]:roi[0]+roi[2]]\n",
    "        cv.imwrite('outputs/*/sec'+str(sec)+'.jpg', mini)\n",
    "        cv.waitKey(1)\n",
    "        sec+=1\n",
    "    #out.release()\n",
    "cap.release()\n",
    "cv.destroyAllWindows()"
   ]
  },
  {
   "cell_type": "code",
   "execution_count": 47,
   "metadata": {},
   "outputs": [],
   "source": [
    "cv.destroyAllWindows()\n",
    "cap.release()"
   ]
  }
 ],
 "metadata": {
  "interpreter": {
   "hash": "18a46c5132b1cbc98f56371d3221d1f8be88d5ca3e26f218f131331f05f55f28"
  },
  "kernelspec": {
   "display_name": "Python 3.10.4 64-bit",
   "language": "python",
   "name": "python3"
  },
  "language_info": {
   "codemirror_mode": {
    "name": "ipython",
    "version": 3
   },
   "file_extension": ".py",
   "mimetype": "text/x-python",
   "name": "python",
   "nbconvert_exporter": "python",
   "pygments_lexer": "ipython3",
   "version": "3.10.4"
  },
  "orig_nbformat": 4
 },
 "nbformat": 4,
 "nbformat_minor": 2
}
