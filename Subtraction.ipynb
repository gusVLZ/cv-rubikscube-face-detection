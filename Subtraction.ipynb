{
 "cells": [
  {
   "cell_type": "code",
   "execution_count": 2,
   "metadata": {},
   "outputs": [],
   "source": [
    "import cv2\n",
    "import time\n",
    "import numpy as np"
   ]
  },
  {
   "cell_type": "code",
   "execution_count": 38,
   "metadata": {},
   "outputs": [],
   "source": [
    "cap = cv2.VideoCapture(\"video\\*.mp4\")\n",
    "(grabbed, frame) = cap.read()\n",
    "fshape = frame.shape\n",
    "size = (fshape[1], fshape[0])\n",
    "#out = cv2.VideoWriter('outputs/video/video.mp4',cv2.VideoWriter_fourcc(*'mp4v'), 30, size)\n",
    "# Object detection from Stable camera\n",
    "object_detector = cv2.createBackgroundSubtractorKNN(detectShadows=False, history=20)\n",
    "while cap.isOpened():\n",
    "    ret, frame = cap.read()\n",
    "    if not ret:\n",
    "        time.sleep(1)\n",
    "        break\n",
    "    frame = cv2.resize(frame, None, None, 4,4)\n",
    "    \"\"\"frame = cv2.cvtColor(frame, cv2.COLOR_BGR2HSV)    \n",
    "    lower_color = np.array([0,0,0])\n",
    "    upper_color = np.array([255,255,240])\"\"\"\n",
    "    #frame = cv2.resize(frame, None, None, 2,2)\n",
    "    gray = cv2.cvtColor(frame, cv2.COLOR_BGR2GRAY)\n",
    "    blur = cv2.medianBlur(gray,3)\n",
    "    #_, bin = cv2.threshold(gray, 50, 255, cv2.THRESH_BINARY)\n",
    "    bin = cv2.adaptiveThreshold(gray, 255, cv2.ADAPTIVE_THRESH_GAUSSIAN_C, cv2.THRESH_BINARY, 11, 2)\n",
    "    \n",
    "    #canny = cv2.Canny(gray, 100, 200)\n",
    "    # 1. Object Detection\n",
    "    mask = object_detector.apply(gray)\n",
    "    #_, bin = cv2.threshold(mask, 230, 255, cv2.THRESH_BINARY)\n",
    "    kernel = cv2.getStructuringElement(cv2.MORPH_RECT,(5,5))\n",
    "    mask1 = cv2.morphologyEx(bin, cv2.MORPH_OPEN, kernel)\n",
    "\n",
    "    #cv2.imshow(\"before\", frame)\n",
    "    #channel3 = np.stack((bin,)*3, axis=-1)\n",
    "    cv2.imshow(\"after\", mask1)\n",
    "    #out.write(channel3)\n",
    "    if cv2.waitKey(30) == 27:\n",
    "        break\n",
    "#out.release()\n",
    "cap.release()\n",
    "cv2.destroyAllWindows()"
   ]
  },
  {
   "cell_type": "code",
   "execution_count": 20,
   "metadata": {},
   "outputs": [],
   "source": [
    "cv2.destroyAllWindows()\n",
    "cap.release()"
   ]
  }
 ],
 "metadata": {
  "interpreter": {
   "hash": "18a46c5132b1cbc98f56371d3221d1f8be88d5ca3e26f218f131331f05f55f28"
  },
  "kernelspec": {
   "display_name": "Python 3.10.4 64-bit",
   "language": "python",
   "name": "python3"
  },
  "language_info": {
   "codemirror_mode": {
    "name": "ipython",
    "version": 3
   },
   "file_extension": ".py",
   "mimetype": "text/x-python",
   "name": "python",
   "nbconvert_exporter": "python",
   "pygments_lexer": "ipython3",
   "version": "3.10.4"
  },
  "orig_nbformat": 4
 },
 "nbformat": 4,
 "nbformat_minor": 2
}
