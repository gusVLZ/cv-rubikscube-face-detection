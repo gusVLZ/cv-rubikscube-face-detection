{
 "cells": [
  {
   "cell_type": "code",
   "execution_count": 4,
   "metadata": {},
   "outputs": [],
   "source": []
  },
  {
   "cell_type": "code",
   "execution_count": 39,
   "metadata": {},
   "outputs": [
    {
     "name": "stdout",
     "output_type": "stream",
     "text": [
      "\n"
     ]
    }
   ],
   "source": [
    "import pytesseract\n",
    "import cv2\n",
    "img = cv2.imread('images/core.jpg')\n",
    "\n",
    "img = cv2.resize(img, None, None, 4, 4, interpolation=cv2.INTER_CUBIC)\n",
    "#img = cv2.GaussianBlur(img, (3, 3), 0)\n",
    "#bin = cv2.adaptiveThreshold(cv2.cvtColor(img, cv2.COLOR_BGR2GRAY), 255, cv2.ADAPTIVE_THRESH_GAUSSIAN_C, cv2.THRESH_BINARY,11, 2)\n",
    "_, bin =cv2.threshold(img, 200, 255, cv2.THRESH_BINARY)\n",
    "kernel = cv2.getStructuringElement(cv2.MORPH_RECT,(3,3))\n",
    "mask1 = cv2.morphologyEx(bin, cv2.MORPH_DILATE, kernel)\n",
    "canny = cv2.Canny(mask1, 100, 200)\n",
    "cv2.imshow('Result', canny)\n",
    "config = r'-c tessedit_char_whitelist=0123456789 --psm 6'\n",
    "print(pytesseract.image_to_string(canny, lang=\"eng\", config=config))\n",
    "cv2.waitKey(0)\n",
    "cv2.destroyAllWindows()"
   ]
  }
 ],
 "metadata": {
  "interpreter": {
   "hash": "18a46c5132b1cbc98f56371d3221d1f8be88d5ca3e26f218f131331f05f55f28"
  },
  "kernelspec": {
   "display_name": "Python 3.10.4 64-bit",
   "language": "python",
   "name": "python3"
  },
  "language_info": {
   "codemirror_mode": {
    "name": "ipython",
    "version": 3
   },
   "file_extension": ".py",
   "mimetype": "text/x-python",
   "name": "python",
   "nbconvert_exporter": "python",
   "pygments_lexer": "ipython3",
   "version": "3.10.4"
  },
  "orig_nbformat": 4
 },
 "nbformat": 4,
 "nbformat_minor": 2
}
