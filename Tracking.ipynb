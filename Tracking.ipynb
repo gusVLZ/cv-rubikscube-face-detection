{
 "cells": [
  {
   "cell_type": "code",
   "execution_count": 1,
   "metadata": {},
   "outputs": [],
   "source": [
    "import cv2 as cv\n",
    "import time"
   ]
  },
  {
   "cell_type": "code",
   "execution_count": 2,
   "metadata": {},
   "outputs": [],
   "source": [
    "def selectROIFromFrame(frame):\n",
    "    #box (x,y,w,h)\n",
    "    box = cv.selectROI(\"SELECT ROI\", frame, fromCenter=False, showCrosshair=False);\n",
    "    #box = boxes[0]\n",
    "    cutImg = frame[box[1]:box[1]+box[3],box[0]:box[0]+box[2]]\n",
    "    print(box)\n",
    "    cv.imwrite(\"outputs/SELECTED_ROI.jpg\", cutImg)\n",
    "    return box\n",
    "\n"
   ]
  },
  {
   "cell_type": "code",
   "execution_count": 7,
   "metadata": {},
   "outputs": [
    {
     "name": "stdout",
     "output_type": "stream",
     "text": [
      "(281, 70, 15, 18)\n",
      "cadê?\n",
      "cadê?\n"
     ]
    }
   ],
   "source": [
    "cap = cv.VideoCapture(\"video/HIGHWAY_NIGHT.mp4\")\n",
    "\n",
    "ret, frame = cap.read()\n",
    "\n",
    "box = selectROIFromFrame(frame)\n",
    "\n",
    "tracker = cv.TrackerCSRT_create()\n",
    "\n",
    "ok = tracker.init(frame, box)\n",
    "\n",
    "while cap.isOpened():\n",
    "    ret, frame = cap.read()\n",
    "\n",
    "    if not ret:\n",
    "        break\n",
    "\n",
    "    ok, box = tracker.update(frame)\n",
    "\n",
    "    if ok:\n",
    "        (pt1, pt2) = ((box[0], box[1]),((box[0] + box[2]), (box[1] + box[3])))\n",
    "        cv.rectangle(frame, pt1, pt2, (255,0,0), 2, 1)\n",
    "        cv.imshow(\"Tracking\", frame)\n",
    "    else:\n",
    "        print(\"cadê?\")\n",
    "        time.sleep(3)\n",
    "    \n",
    "\n",
    "    if cv.waitKey(10) == 27:\n",
    "            break\n",
    "cv.destroyAllWindows()"
   ]
  }
 ],
 "metadata": {
  "interpreter": {
   "hash": "18a46c5132b1cbc98f56371d3221d1f8be88d5ca3e26f218f131331f05f55f28"
  },
  "kernelspec": {
   "display_name": "Python 3.10.4 64-bit",
   "language": "python",
   "name": "python3"
  },
  "language_info": {
   "codemirror_mode": {
    "name": "ipython",
    "version": 3
   },
   "file_extension": ".py",
   "mimetype": "text/x-python",
   "name": "python",
   "nbconvert_exporter": "python",
   "pygments_lexer": "ipython3",
   "version": "3.10.4"
  },
  "orig_nbformat": 4
 },
 "nbformat": 4,
 "nbformat_minor": 2
}
